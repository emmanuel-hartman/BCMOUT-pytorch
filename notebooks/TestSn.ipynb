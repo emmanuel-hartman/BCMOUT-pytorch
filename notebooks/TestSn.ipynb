{
 "cells": [
  {
   "cell_type": "code",
   "execution_count": 1,
   "id": "410fd1bb",
   "metadata": {},
   "outputs": [
    {
     "ename": "RuntimeError",
     "evalue": "no dimension of size 3 in input",
     "output_type": "error",
     "traceback": [
      "\u001b[1;31m---------------------------------------------------------------------------\u001b[0m",
      "\u001b[1;31mRuntimeError\u001b[0m                              Traceback (most recent call last)",
      "Cell \u001b[1;32mIn[1], line 10\u001b[0m\n\u001b[0;32m      8\u001b[0m b \u001b[38;5;241m=\u001b[39m S\u001b[38;5;241m.\u001b[39mrandom(\u001b[38;5;241m1\u001b[39m)\n\u001b[0;32m      9\u001b[0m c \u001b[38;5;241m=\u001b[39m S\u001b[38;5;241m.\u001b[39mrandom(\u001b[38;5;241m1\u001b[39m)\n\u001b[1;32m---> 10\u001b[0m \u001b[38;5;28mprint\u001b[39m(\u001b[43mS\u001b[49m\u001b[38;5;241;43m.\u001b[39;49m\u001b[43mgeodesic\u001b[49m\u001b[43m(\u001b[49m\u001b[43ma\u001b[49m\u001b[43m,\u001b[49m\u001b[43mb\u001b[49m\u001b[43m,\u001b[49m\u001b[38;5;241;43m2\u001b[39;49m\u001b[43m)\u001b[49m)\n\u001b[0;32m     11\u001b[0m \u001b[38;5;28mprint\u001b[39m(S)\n\u001b[0;32m     12\u001b[0m \u001b[38;5;28mprint\u001b[39m(b\u001b[38;5;241m.\u001b[39mshape)\n",
      "File \u001b[1;32m~\\Documents\\BCMOUT-pytorch\\bcmout\\MetricSpace.py:61\u001b[0m, in \u001b[0;36mMetricSpace.geodesic\u001b[1;34m(self, point1, point2, t, **kwargs)\u001b[0m\n\u001b[0;32m     60\u001b[0m \u001b[38;5;28;01mdef\u001b[39;00m \u001b[38;5;21mgeodesic\u001b[39m(\u001b[38;5;28mself\u001b[39m,point1,point2,t,\u001b[38;5;241m*\u001b[39m\u001b[38;5;241m*\u001b[39mkwargs):\n\u001b[1;32m---> 61\u001b[0m     \u001b[38;5;28;01mreturn\u001b[39;00m \u001b[38;5;28;43mself\u001b[39;49m\u001b[38;5;241;43m.\u001b[39;49m\u001b[43m_metric\u001b[49m\u001b[38;5;241;43m.\u001b[39;49m\u001b[43mgeodesic\u001b[49m\u001b[43m(\u001b[49m\u001b[43mpoint1\u001b[49m\u001b[43m,\u001b[49m\u001b[43mpoint2\u001b[49m\u001b[43m,\u001b[49m\u001b[43mt\u001b[49m\u001b[43m,\u001b[49m\u001b[38;5;241;43m*\u001b[39;49m\u001b[38;5;241;43m*\u001b[39;49m\u001b[43mkwargs\u001b[49m\u001b[43m)\u001b[49m\n",
      "File \u001b[1;32m~\\Documents\\BCMOUT-pytorch\\bcmout\\Sphere.py:115\u001b[0m, in \u001b[0;36mSphericalMetric.geodesic\u001b[1;34m(self, point1, point2, t)\u001b[0m\n\u001b[0;32m    102\u001b[0m \u001b[38;5;250m\u001b[39m\u001b[38;5;124;03m\"\"\"Returns a set of t points equally spaced on the geodesic between point1 and point2.\u001b[39;00m\n\u001b[0;32m    103\u001b[0m \u001b[38;5;124;03mParameters\u001b[39;00m\n\u001b[0;32m    104\u001b[0m \u001b[38;5;124;03m----------\u001b[39;00m\n\u001b[1;32m   (...)\u001b[0m\n\u001b[0;32m    112\u001b[0m \u001b[38;5;124;03m    t points on the geodesic between point1 and point2\u001b[39;00m\n\u001b[0;32m    113\u001b[0m \u001b[38;5;124;03m\"\"\"\u001b[39;00m\n\u001b[0;32m    114\u001b[0m geodesic \u001b[38;5;241m=\u001b[39m torch\u001b[38;5;241m.\u001b[39mTensor((point1\u001b[38;5;241m.\u001b[39mshape[\u001b[38;5;241m0\u001b[39m],t))\n\u001b[1;32m--> 115\u001b[0m w \u001b[38;5;241m=\u001b[39m torch\u001b[38;5;241m.\u001b[39mcross(\u001b[43mtorch\u001b[49m\u001b[38;5;241;43m.\u001b[39;49m\u001b[43mcross\u001b[49m\u001b[43m(\u001b[49m\u001b[43mpoint1\u001b[49m\u001b[43m,\u001b[49m\u001b[43mpoint2\u001b[49m\u001b[43m)\u001b[49m,point1)\n\u001b[0;32m    116\u001b[0m theta \u001b[38;5;241m=\u001b[39m np\u001b[38;5;241m.\u001b[39marcos(torch\u001b[38;5;241m.\u001b[39mtranspose(point1,\u001b[38;5;241m0\u001b[39m,\u001b[38;5;241m1\u001b[39m)\u001b[38;5;241m*\u001b[39mpoint2)\n\u001b[0;32m    117\u001b[0m \u001b[38;5;28;01mfor\u001b[39;00m i \u001b[38;5;129;01min\u001b[39;00m \u001b[38;5;28mrange\u001b[39m(\u001b[38;5;241m1\u001b[39m,t\u001b[38;5;241m+\u001b[39m\u001b[38;5;241m1\u001b[39m):\n",
      "\u001b[1;31mRuntimeError\u001b[0m: no dimension of size 3 in input"
     ]
    }
   ],
   "source": [
    "import os\n",
    "os.chdir('..')\n",
    "import matplotlib.pyplot as plt\n",
    "import torch\n",
    "from bcmout.Sphere import Sphere\n",
    "S = Sphere(1)\n",
    "a = S.random(100)\n",
    "b = S.random(1)\n",
    "c = S.random(1)\n",
    "print(S.geodesic(a,b,2))\n",
    "print(S)\n",
    "print(b.shape)\n",
    "print(S.belongs(b).shape)\n",
    "print(torch.all(S.belongs(b)))"
   ]
  },
  {
   "cell_type": "code",
   "execution_count": null,
   "id": "afeb044d",
   "metadata": {},
   "outputs": [],
   "source": [
    "d=S.dissimilarity(c)\n",
    "plt.matshow(d.numpy())\n",
    "plt.show()"
   ]
  },
  {
   "cell_type": "code",
   "execution_count": null,
   "id": "1aa63c54",
   "metadata": {},
   "outputs": [],
   "source": [
    "from sklearn.manifold import TSNE,MDS\n",
    "X_embedded = MDS(n_components=2, dissimilarity='precomputed').fit_transform(((d+d.transpose(0,1))/2).numpy())\n",
    "plt.scatter(X_embedded[:,0],X_embedded[:,1])\n",
    "plt.scatter(X_embedded[:,0],X_embedded[:,1])\n",
    "plt.show()"
   ]
  },
  {
   "cell_type": "code",
   "execution_count": null,
   "id": "028edba4",
   "metadata": {},
   "outputs": [],
   "source": [
    "from bcmout.ConeSpace import ConeOverM\n",
    "COverS = ConeOverM(S,100)\n",
    "print(COverS)\n",
    "print(COverS._metric)\n",
    "c=COverS.random(1000,10)\n",
    "print(torch.all(COverS.belongs(c)))"
   ]
  },
  {
   "cell_type": "code",
   "execution_count": null,
   "id": "e2febeff",
   "metadata": {},
   "outputs": [],
   "source": [
    "d=COverS.dissimilarity(c)\n",
    "plt.matshow(d.numpy())\n",
    "plt.show()\n",
    "#print(d)"
   ]
  },
  {
   "cell_type": "code",
   "execution_count": null,
   "id": "5b260138",
   "metadata": {},
   "outputs": [],
   "source": [
    "\n",
    "X_embedded = MDS(n_components=2, dissimilarity='precomputed').fit_transform(((d+d.transpose(0,1))/2).numpy())\n",
    "plt.scatter(X_embedded[:,0],X_embedded[:,1])\n",
    "plt.scatter(X_embedded[:,0],X_embedded[:,1])\n",
    "plt.show()"
   ]
  },
  {
   "cell_type": "code",
   "execution_count": null,
   "id": "3d07f152",
   "metadata": {},
   "outputs": [],
   "source": [
    "from bcmout.MeasureSpace import MeasureSpace\n",
    "MonS = MeasureSpace(S,1,\"WFR\",True)\n",
    "print(MonS)\n",
    "print(MonS._metric)\n",
    "e = MonS.random(1,5,1)\n",
    "print(e)\n",
    "print(torch.all(MonS.belongs(e)))"
   ]
  },
  {
   "cell_type": "code",
   "execution_count": null,
   "id": "8b1e6e69",
   "metadata": {},
   "outputs": [],
   "source": [
    "d = MonS.dissimilarity(e,max_steps=10000,eps=.00001)\n",
    "plt.matshow(d.numpy())\n",
    "plt.show()\n",
    "#print(d)"
   ]
  },
  {
   "cell_type": "code",
   "execution_count": null,
   "id": "211b61d2",
   "metadata": {},
   "outputs": [],
   "source": [
    "X_embedded = MDS(n_components=2, dissimilarity='precomputed').fit_transform(d.numpy())\n",
    "plt.scatter(X_embedded[:,0],X_embedded[:,1])\n",
    "plt.scatter(X_embedded[:,0],X_embedded[:,1])\n",
    "plt.show()"
   ]
  }
 ],
 "metadata": {
  "kernelspec": {
   "display_name": "Python 3 (ipykernel)",
   "language": "python",
   "name": "python3"
  },
  "language_info": {
   "codemirror_mode": {
    "name": "ipython",
    "version": 3
   },
   "file_extension": ".py",
   "mimetype": "text/x-python",
   "name": "python",
   "nbconvert_exporter": "python",
   "pygments_lexer": "ipython3",
   "version": "3.8.10"
  }
 },
 "nbformat": 4,
 "nbformat_minor": 5
}

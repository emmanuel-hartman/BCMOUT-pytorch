{
 "cells": [
  {
   "cell_type": "code",
   "execution_count": 1,
   "id": "410fd1bb",
   "metadata": {},
   "outputs": [
    {
     "name": "stdout",
     "output_type": "stream",
     "text": [
      "<bcmout.Sphere.Sphere object at 0x00000240ACAB7B20>\n",
      "torch.Size([7, 100])\n",
      "torch.Size([100])\n",
      "tensor(True)\n"
     ]
    }
   ],
   "source": [
    "import os\n",
    "os.chdir('..')\n",
    "import matplotlib.pyplot as plt\n",
    "import torch\n",
    "from bcmout.Sphere import Sphere\n",
    "from bcmout.Euclidean import Euclidean\n",
    "from bcmout.ProductSpace import Product\n",
    "from bcmout.SPDMatrices import SPDMatrices\n",
    "\n",
    "S = Sphere(2)\n",
    "M = SPDMatrices(2)\n",
    "R = Euclidean(2)\n",
    "T= Product(M,S)\n",
    "b = T.random(100)\n",
    "print(S)\n",
    "print(b.shape)\n",
    "print(T.belongs(b).shape)\n",
    "print(torch.all(T.belongs(b)))"
   ]
  },
  {
   "cell_type": "code",
   "execution_count": null,
   "id": "afeb044d",
   "metadata": {},
   "outputs": [],
   "source": [
    "d=T.dissimilarity(b)\n",
    "plt.matshow(d.numpy())\n",
    "plt.show()"
   ]
  },
  {
   "cell_type": "code",
   "execution_count": null,
   "id": "1aa63c54",
   "metadata": {},
   "outputs": [],
   "source": [
    "from sklearn.manifold import TSNE,MDS\n",
    "X_embedded = MDS(n_components=2, dissimilarity='precomputed').fit_transform(((d+d.transpose(0,1))/2).numpy())\n",
    "plt.scatter(X_embedded[:,0],X_embedded[:,1])\n",
    "plt.show()"
   ]
  },
  {
   "cell_type": "code",
   "execution_count": null,
   "id": "028edba4",
   "metadata": {},
   "outputs": [],
   "source": [
    "from ConeSpace import ConeOverM\n",
    "COverT = ConeOverM(T,1)\n",
    "print(COverT)\n",
    "print(COverT._metric)\n",
    "c=COverT.random(1000,10)\n",
    "print(torch.all(COverT.belongs(c)))"
   ]
  },
  {
   "cell_type": "code",
   "execution_count": null,
   "id": "e2febeff",
   "metadata": {},
   "outputs": [],
   "source": [
    "d=COverT.dissimilarity(c)\n",
    "plt.matshow(d.numpy())\n",
    "plt.show()\n",
    "#print(d)"
   ]
  },
  {
   "cell_type": "code",
   "execution_count": null,
   "id": "5b260138",
   "metadata": {},
   "outputs": [],
   "source": [
    "\n",
    "X_embedded = MDS(n_components=2, dissimilarity='precomputed').fit_transform(d.numpy())\n",
    "plt.scatter(X_embedded[:,0],X_embedded[:,1])\n",
    "plt.scatter(X_embedded[:,0],X_embedded[:,1])\n",
    "plt.show()"
   ]
  },
  {
   "cell_type": "code",
   "execution_count": null,
   "id": "3d07f152",
   "metadata": {},
   "outputs": [],
   "source": [
    "from MeasureSpace import MeasureSpace\n",
    "MonT = MeasureSpace(T,4)\n",
    "print(MonT)\n",
    "print(MonT._metric)\n",
    "e = MonT.random(100,20,10)\n",
    "print(torch.all(MonT.belongs(e)))"
   ]
  },
  {
   "cell_type": "code",
   "execution_count": null,
   "id": "8b1e6e69",
   "metadata": {},
   "outputs": [],
   "source": [
    "d = MonT.dissimilarity(e,max_steps=10000,eps=.00001)\n",
    "plt.matshow(d.numpy())\n",
    "plt.show()\n",
    "#print(d)"
   ]
  },
  {
   "cell_type": "code",
   "execution_count": null,
   "id": "211b61d2",
   "metadata": {},
   "outputs": [],
   "source": [
    "X_embedded = MDS(n_components=2, dissimilarity='precomputed').fit_transform(d.numpy())\n",
    "plt.scatter(X_embedded[:,0],X_embedded[:,1])\n",
    "plt.scatter(X_embedded[:,0],X_embedded[:,1])\n",
    "plt.show()"
   ]
  },
  {
   "cell_type": "code",
   "execution_count": null,
   "id": "5e103ece",
   "metadata": {},
   "outputs": [],
   "source": []
  }
 ],
 "metadata": {
  "kernelspec": {
   "display_name": "Python 3 (ipykernel)",
   "language": "python",
   "name": "python3"
  },
  "language_info": {
   "codemirror_mode": {
    "name": "ipython",
    "version": 3
   },
   "file_extension": ".py",
   "mimetype": "text/x-python",
   "name": "python",
   "nbconvert_exporter": "python",
   "pygments_lexer": "ipython3",
   "version": "3.9.12"
  }
 },
 "nbformat": 4,
 "nbformat_minor": 5
}

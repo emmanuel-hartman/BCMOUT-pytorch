{
 "cells": [
  {
   "cell_type": "code",
   "execution_count": 1,
   "id": "34efa937-4eb1-419c-8c79-890a06232132",
   "metadata": {},
   "outputs": [
    {
     "name": "stdout",
     "output_type": "stream",
     "text": [
      "<bcmout.MeasureSpace.MeasureSpace object at 0x000001E86A1AFC70>\n",
      "<bcmout.MeasureSpace.WFRMetric object at 0x000001E808A7C760>\n",
      "[tensor([[ 6.1642e+01,  2.7880e+01,  1.5420e+02,  1.4410e+02,  6.2358e+00,\n",
      "          1.5718e+02],\n",
      "        [ 9.4421e-01,  8.0383e-02,  4.8050e-01, -8.0885e-01, -4.1030e-01,\n",
      "         -7.8731e-01],\n",
      "        [-3.1835e-01,  2.1833e-01,  8.1530e-01,  4.1279e-01, -7.7537e-01,\n",
      "         -3.8608e-01],\n",
      "        [ 8.4423e-02, -9.7256e-01, -3.2312e-01, -4.1876e-01,  4.8006e-01,\n",
      "         -4.8072e-01]])]\n",
      "[[ 61.642242   27.880192  154.1969    144.09607     6.2357783 157.18245  ]]\n",
      "[[ 0.9442051   0.08038256  0.4805005  -0.80885154 -0.41030124 -0.787308  ]\n",
      " [-0.31835434  0.21833275  0.81529826  0.41278952 -0.775369   -0.38607678]\n",
      " [ 0.08442272 -0.9725582  -0.32312214 -0.4187649   0.48005816 -0.4807191 ]]\n"
     ]
    },
    {
     "name": "stderr",
     "output_type": "stream",
     "text": [
      "C:\\Users\\Dylan\\AppData\\Local\\Temp\\ipykernel_23944\\4080524740.py:34: DeprecationWarning: Use of `minimize` with `x0.ndim != 1` is deprecated. Currently, singleton dimensions will be removed from `x0`, but an error will be raised in SciPy 1.11.0.\n",
      "  scipy.optimize.minimize(closure_functional, weights, method='BFGS', args=supports, bounds=scipy.optimize.Bounds(lb=0))\n",
      "C:\\Users\\Dylan\\AppData\\Roaming\\Python\\Python38\\site-packages\\scipy\\optimize\\_minimize.py:569: RuntimeWarning: Method BFGS cannot handle bounds.\n",
      "  warn('Method %s cannot handle bounds.' % method,\n"
     ]
    },
    {
     "data": {
      "text/plain": [
       "  message: Optimization terminated successfully.\n",
       "  success: True\n",
       "   status: 0\n",
       "      fun: 22048.309\n",
       "        x: [ 6.164e+01  2.788e+01  1.542e+02  1.441e+02  6.236e+00\n",
       "             1.572e+02]\n",
       "      nit: 0\n",
       "      jac: [ 0.000e+00  0.000e+00  0.000e+00  0.000e+00  0.000e+00\n",
       "             0.000e+00]\n",
       " hess_inv: [[1 0 ... 0 0]\n",
       "            [0 1 ... 0 0]\n",
       "            ...\n",
       "            [0 0 ... 1 0]\n",
       "            [0 0 ... 0 1]]\n",
       "     nfev: 7\n",
       "     njev: 1"
      ]
     },
     "execution_count": 1,
     "metadata": {},
     "output_type": "execute_result"
    }
   ],
   "source": [
    "import os\n",
    "os.chdir('..')\n",
    "from bcmout.Sphere import Sphere\n",
    "from bcmout.MeasureSpace import MeasureSpace\n",
    "import torch\n",
    "import numpy as np\n",
    "import scipy\n",
    "\n",
    "def closure_functional (weights, supports):\n",
    "    \"\"\"Define a functional representing how close to being closed the measure is\"\"\"\n",
    "    vec = np.sum(weights[0]*supports,0)\n",
    "    return np.inner(vec,vec)\n",
    "\n",
    "def split_measure (measure):\n",
    "    weights = measure.split((1,measure.shape[0]-1),0)[0].numpy()\n",
    "    supports = measure.split((1,measure.shape[0]-1),0)[1].numpy()\n",
    "    return [weights,supports]\n",
    "\n",
    "#def gradient (weights,supports):\n",
    "    #vec = np.sum(weights*supports,0)\n",
    "    #return 2*np.dot(weights,vec)\n",
    "\n",
    "S = Sphere(2)\n",
    "MonS = MeasureSpace(S,1,\"WFR\",True)\n",
    "print(MonS)\n",
    "print(MonS._metric)\n",
    "e = MonS.random(1,6,200)\n",
    "print(e)\n",
    "k = split_measure(e[0])\n",
    "weights = k[0]\n",
    "supports = k[1]\n",
    "print(weights)\n",
    "print(supports)\n",
    "scipy.optimize.minimize(closure_functional, weights, method='BFGS', args=supports, bounds=scipy.optimize.Bounds(lb=0))"
   ]
  }
 ],
 "metadata": {
  "kernelspec": {
   "display_name": "Python 3 (ipykernel)",
   "language": "python",
   "name": "python3"
  },
  "language_info": {
   "codemirror_mode": {
    "name": "ipython",
    "version": 3
   },
   "file_extension": ".py",
   "mimetype": "text/x-python",
   "name": "python",
   "nbconvert_exporter": "python",
   "pygments_lexer": "ipython3",
   "version": "3.8.10"
  }
 },
 "nbformat": 4,
 "nbformat_minor": 5
}

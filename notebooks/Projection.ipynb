{
 "cells": [
  {
   "cell_type": "code",
   "execution_count": 1,
   "id": "34efa937-4eb1-419c-8c79-890a06232132",
   "metadata": {},
   "outputs": [
    {
     "name": "stdout",
     "output_type": "stream",
     "text": [
      "<bcmout.MeasureSpace.MeasureSpace object at 0x0000023D1EFC6A90>\n",
      "<bcmout.MeasureSpace.WFRMetric object at 0x0000023D3D7FE9D0>\n",
      "[[ 0.12956925  0.10533556  0.12845385  0.07287787  0.02804702]\n",
      " [-0.34333274 -0.7983009   0.4375293   0.36028683  0.8123364 ]\n",
      " [-0.51589936 -0.13880444  0.48082227  0.51037425  0.09231213]]\n",
      "[-0.72966284 -0.8317698   1.0468054   0.94353896  0.93269557]\n",
      "2.0199597\n"
     ]
    },
    {
     "name": "stderr",
     "output_type": "stream",
     "text": [
      "C:\\Users\\Dylan\\AppData\\Local\\Temp\\ipykernel_18980\\1059564851.py:30: DeprecationWarning: Use of `minimize` with `x0.ndim != 1` is deprecated. Currently, singleton dimensions will be removed from `x0`, but an error will be raised in SciPy 1.11.0.\n",
      "  scipy.optimize.minimize(closure_functional, weights, method='BFGS', args=supports)\n"
     ]
    },
    {
     "data": {
      "text/plain": [
       "  message: Optimization terminated successfully.\n",
       "  success: True\n",
       "   status: 0\n",
       "      fun: 5.294218893941709e-16\n",
       "        x: [-1.449e-08  8.233e-01 -5.676e-01]\n",
       "      nit: 3\n",
       "      jac: [-3.550e-08  0.000e+00  0.000e+00]\n",
       " hess_inv: [[ 3.148e-01  0.000e+00  0.000e+00]\n",
       "            [ 0.000e+00  1.000e+00  0.000e+00]\n",
       "            [ 0.000e+00  0.000e+00  1.000e+00]]\n",
       "     nfev: 20\n",
       "     njev: 5"
      ]
     },
     "execution_count": 1,
     "metadata": {},
     "output_type": "execute_result"
    }
   ],
   "source": [
    "import os\n",
    "os.chdir('..')\n",
    "from bcmout.Sphere import Sphere\n",
    "from bcmout.MeasureSpace import MeasureSpace\n",
    "import torch\n",
    "import numpy as np\n",
    "import scipy\n",
    "\n",
    "def closure_functional (weights, supports):\n",
    "    \"\"\"Define a functional representing how close to being closed the measure is\"\"\"\n",
    "    vec = np.sum(weights[0]*supports,0)\n",
    "    return np.linalg.norm(vec)**2\n",
    "\n",
    "def split_measure (measure):\n",
    "    weights = measure.split((1,measure.shape[1]-1),1)[0].numpy()\n",
    "    supports = measure.split((1,measure.shape[1]-1),1)[1].numpy()\n",
    "    return [weights,supports]\n",
    "        \n",
    "S = Sphere(1)\n",
    "MonS = MeasureSpace(S,1,\"WFR\",True)\n",
    "print(MonS)\n",
    "print(MonS._metric)\n",
    "e = MonS.random(1,6,1)\n",
    "k = split_measure(e[0])\n",
    "weights = k[0]\n",
    "supports = k[1]\n",
    "print(weights*supports)\n",
    "print(np.sum(weights*supports,0))\n",
    "print(np.linalg.norm(np.sum(weights*supports,0)))\n",
    "scipy.optimize.minimize(closure_functional, weights, method='BFGS', args=supports)"
   ]
  }
 ],
 "metadata": {
  "kernelspec": {
   "display_name": "Python 3 (ipykernel)",
   "language": "python",
   "name": "python3"
  },
  "language_info": {
   "codemirror_mode": {
    "name": "ipython",
    "version": 3
   },
   "file_extension": ".py",
   "mimetype": "text/x-python",
   "name": "python",
   "nbconvert_exporter": "python",
   "pygments_lexer": "ipython3",
   "version": "3.8.10"
  }
 },
 "nbformat": 4,
 "nbformat_minor": 5
}

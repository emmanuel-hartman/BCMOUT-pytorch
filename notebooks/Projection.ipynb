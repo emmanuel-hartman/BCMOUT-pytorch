{
 "cells": [
  {
   "cell_type": "code",
   "execution_count": 1,
   "id": "34efa937-4eb1-419c-8c79-890a06232132",
   "metadata": {},
   "outputs": [
    {
     "name": "stdout",
     "output_type": "stream",
     "text": [
      "<bcmout.MeasureSpace.MeasureSpace object at 0x0000017B71EC6370>\n",
      "<bcmout.MeasureSpace.WFRMetric object at 0x0000017B1C52C760>\n",
      "[tensor([[ 1.8206e+02,  1.0586e+02,  4.8804e+01,  7.5918e+01,  5.2754e+01,\n",
      "          1.6861e+02],\n",
      "        [ 2.6743e-01, -4.9865e-01, -9.1461e-01, -2.7977e-01,  7.0873e-01,\n",
      "         -9.0285e-01],\n",
      "        [-8.0638e-01,  5.5479e-01,  1.2931e-01, -2.1518e-02, -4.4806e-01,\n",
      "          2.9650e-02],\n",
      "        [-5.2747e-01,  6.6600e-01,  3.8309e-01, -9.5982e-01,  5.4492e-01,\n",
      "         -4.2894e-01]])]\n",
      "[[182.06277 105.85815  48.80364  75.91759  52.75414 168.61116]]\n",
      "[[ 0.2674297  -0.4986499  -0.9146142  -0.27977404  0.7087317  -0.902845  ]\n",
      " [-0.8063849   0.5547878   0.12931237 -0.02151838 -0.44806257  0.02964985]\n",
      " [-0.52747     0.6660021   0.38309163 -0.9598247   0.5449214  -0.42894274]]\n"
     ]
    },
    {
     "name": "stderr",
     "output_type": "stream",
     "text": [
      "C:\\Users\\Dylan\\AppData\\Local\\Temp\\ipykernel_15640\\1954661211.py:34: DeprecationWarning: Use of `minimize` with `x0.ndim != 1` is deprecated. Currently, singleton dimensions will be removed from `x0`, but an error will be raised in SciPy 1.11.0.\n",
      "  scipy.optimize.minimize(closure_functional, weights, method='L-BFGS-B', args=supports, bounds=scipy.optimize.Bounds(lb=0))\n"
     ]
    },
    {
     "data": {
      "text/plain": [
       "  message: CONVERGENCE: NORM_OF_PROJECTED_GRADIENT_<=_PGTOL\n",
       "  success: True\n",
       "   status: 0\n",
       "      fun: 190775.98\n",
       "        x: [ 1.821e+02  1.059e+02  4.880e+01  7.592e+01  5.275e+01\n",
       "             1.686e+02]\n",
       "      nit: 0\n",
       "      jac: [ 0.000e+00  0.000e+00  0.000e+00  0.000e+00  0.000e+00\n",
       "             0.000e+00]\n",
       "     nfev: 7\n",
       "     njev: 1\n",
       " hess_inv: <6x6 LbfgsInvHessProduct with dtype=float64>"
      ]
     },
     "execution_count": 1,
     "metadata": {},
     "output_type": "execute_result"
    }
   ],
   "source": [
    "import os\n",
    "os.chdir('..')\n",
    "from bcmout.Sphere import Sphere\n",
    "from bcmout.MeasureSpace import MeasureSpace\n",
    "import torch\n",
    "import numpy as np\n",
    "import scipy\n",
    "\n",
    "def closure_functional (weights, supports):\n",
    "    \"\"\"Define a functional representing how close to being closed the measure is\"\"\"\n",
    "    vec = np.sum(weights[0]*supports,0)\n",
    "    return np.inner(vec,vec)\n",
    "\n",
    "def split_measure (measure):\n",
    "    weights = measure.split((1,measure.shape[0]-1),0)[0].numpy()\n",
    "    supports = measure.split((1,measure.shape[0]-1),0)[1].numpy()\n",
    "    return [weights,supports]\n",
    "\n",
    "#def gradient (weights,supports):\n",
    "    #vec = np.sum(weights*supports,0)\n",
    "    #return 2*np.dot(weights,vec)\n",
    "\n",
    "S = Sphere(2)\n",
    "MonS = MeasureSpace(S,1,\"WFR\",True)\n",
    "print(MonS)\n",
    "print(MonS._metric)\n",
    "e = MonS.random(1,6,200)\n",
    "print(e)\n",
    "k = split_measure(e[0])\n",
    "weights = k[0]\n",
    "supports = k[1]\n",
    "print(weights)\n",
    "print(supports)\n",
    "scipy.optimize.minimize(closure_functional, weights, method='L-BFGS-B', args=supports, bounds=scipy.optimize.Bounds(lb=0))"
   ]
  }
 ],
 "metadata": {
  "kernelspec": {
   "display_name": "Python 3 (ipykernel)",
   "language": "python",
   "name": "python3"
  },
  "language_info": {
   "codemirror_mode": {
    "name": "ipython",
    "version": 3
   },
   "file_extension": ".py",
   "mimetype": "text/x-python",
   "name": "python",
   "nbconvert_exporter": "python",
   "pygments_lexer": "ipython3",
   "version": "3.8.10"
  }
 },
 "nbformat": 4,
 "nbformat_minor": 5
}

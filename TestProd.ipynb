{
 "cells": [
  {
   "cell_type": "code",
   "execution_count": 1,
   "id": "410fd1bb",
   "metadata": {},
   "outputs": [
    {
     "ename": "AttributeError",
     "evalue": "module 'torch.linalg' has no attribute 'matrix_exp'",
     "output_type": "error",
     "traceback": [
      "\u001b[1;31m---------------------------------------------------------------------------\u001b[0m",
      "\u001b[1;31mAttributeError\u001b[0m                            Traceback (most recent call last)",
      "Input \u001b[1;32mIn [1]\u001b[0m, in \u001b[0;36m<cell line: 14>\u001b[1;34m()\u001b[0m\n\u001b[0;32m     12\u001b[0m R \u001b[38;5;241m=\u001b[39m Euclidean(\u001b[38;5;241m2\u001b[39m)\n\u001b[0;32m     13\u001b[0m T\u001b[38;5;241m=\u001b[39m Product(M,S)\n\u001b[1;32m---> 14\u001b[0m b \u001b[38;5;241m=\u001b[39m \u001b[43mT\u001b[49m\u001b[38;5;241;43m.\u001b[39;49m\u001b[43mrandom\u001b[49m\u001b[43m(\u001b[49m\u001b[38;5;241;43m1000\u001b[39;49m\u001b[43m)\u001b[49m\n\u001b[0;32m     15\u001b[0m \u001b[38;5;28mprint\u001b[39m(S)\n\u001b[0;32m     16\u001b[0m \u001b[38;5;28mprint\u001b[39m(b\u001b[38;5;241m.\u001b[39mshape)\n",
      "File \u001b[1;32m~\\Desktop\\TBD-main\\ProductSpace.py:55\u001b[0m, in \u001b[0;36mProduct.random\u001b[1;34m(self, samples)\u001b[0m\n\u001b[0;32m     39\u001b[0m \u001b[38;5;28;01mdef\u001b[39;00m \u001b[38;5;21mrandom\u001b[39m(\u001b[38;5;28mself\u001b[39m, samples\u001b[38;5;241m=\u001b[39m\u001b[38;5;241m1\u001b[39m):\n\u001b[0;32m     40\u001b[0m     \u001b[38;5;124;03m\"\"\"Sample random points on the metric space according to a uniform distribution.\u001b[39;00m\n\u001b[0;32m     41\u001b[0m \u001b[38;5;124;03m    Parameters\u001b[39;00m\n\u001b[0;32m     42\u001b[0m \u001b[38;5;124;03m    ----------\u001b[39;00m\n\u001b[1;32m   (...)\u001b[0m\n\u001b[0;32m     53\u001b[0m \u001b[38;5;124;03m        Points sampled in the metric space.\u001b[39;00m\n\u001b[0;32m     54\u001b[0m \u001b[38;5;124;03m    \"\"\"\u001b[39;00m\n\u001b[1;32m---> 55\u001b[0m     \u001b[38;5;28;01mreturn\u001b[39;00m torch\u001b[38;5;241m.\u001b[39mcat([\u001b[38;5;28;43mself\u001b[39;49m\u001b[38;5;241;43m.\u001b[39;49m\u001b[43mM\u001b[49m\u001b[38;5;241;43m.\u001b[39;49m\u001b[43mrandom\u001b[49m\u001b[43m(\u001b[49m\u001b[43msamples\u001b[49m\u001b[43m)\u001b[49m,\u001b[38;5;28mself\u001b[39m\u001b[38;5;241m.\u001b[39mN\u001b[38;5;241m.\u001b[39mrandom(samples)],dim\u001b[38;5;241m=\u001b[39m\u001b[38;5;241m0\u001b[39m)\n",
      "File \u001b[1;32m~\\Desktop\\TBD-main\\SPDMatrices.py:54\u001b[0m, in \u001b[0;36mSPDMatrices.random\u001b[1;34m(self, samples, bound)\u001b[0m\n\u001b[0;32m     52\u001b[0m points \u001b[38;5;241m=\u001b[39m bound \u001b[38;5;241m*\u001b[39m (\u001b[38;5;241m2\u001b[39m \u001b[38;5;241m*\u001b[39m torch\u001b[38;5;241m.\u001b[39mrand((\u001b[38;5;28mself\u001b[39m\u001b[38;5;241m.\u001b[39mn,\u001b[38;5;28mself\u001b[39m\u001b[38;5;241m.\u001b[39mn,samples)) \u001b[38;5;241m-\u001b[39m \u001b[38;5;241m1\u001b[39m)\n\u001b[0;32m     53\u001b[0m points \u001b[38;5;241m=\u001b[39m \u001b[38;5;241m.5\u001b[39m\u001b[38;5;241m*\u001b[39m(points\u001b[38;5;241m+\u001b[39mpoints\u001b[38;5;241m.\u001b[39mtranspose(\u001b[38;5;241m0\u001b[39m,\u001b[38;5;241m1\u001b[39m))\n\u001b[1;32m---> 54\u001b[0m points \u001b[38;5;241m=\u001b[39m \u001b[43mtorch\u001b[49m\u001b[38;5;241;43m.\u001b[39;49m\u001b[43mlinalg\u001b[49m\u001b[38;5;241;43m.\u001b[39;49m\u001b[43mmatrix_exp\u001b[49m(points\u001b[38;5;241m.\u001b[39mtranspose(\u001b[38;5;241m0\u001b[39m,\u001b[38;5;241m2\u001b[39m))\u001b[38;5;241m.\u001b[39mtranspose(\u001b[38;5;241m0\u001b[39m,\u001b[38;5;241m2\u001b[39m)\n\u001b[0;32m     55\u001b[0m \u001b[38;5;28;01mreturn\u001b[39;00m points\u001b[38;5;241m.\u001b[39mreshape((\u001b[38;5;241m-\u001b[39m\u001b[38;5;241m1\u001b[39m,samples))\n",
      "\u001b[1;31mAttributeError\u001b[0m: module 'torch.linalg' has no attribute 'matrix_exp'"
     ]
    }
   ],
   "source": [
    "import os\n",
    "os.environ[\"KMP_DUPLICATE_LIB_OK\"]=\"TRUE\"\n",
    "import matplotlib.pyplot as plt\n",
    "import torch\n",
    "from Sphere import Sphere\n",
    "from Euclidean import Euclidean\n",
    "from ProductSpace import Product\n",
    "from SPDMatrices import SPDMatrices\n",
    "\n",
    "S = Sphere(2)\n",
    "M = SPDMatrices(2)\n",
    "R = Euclidean(2)\n",
    "T= Product(M,S)\n",
    "b = T.random(1000)\n",
    "print(S)\n",
    "print(b.shape)\n",
    "print(T.belongs(b).shape)\n",
    "print(torch.all(T.belongs(b)))"
   ]
  },
  {
   "cell_type": "code",
   "execution_count": null,
   "id": "afeb044d",
   "metadata": {},
   "outputs": [],
   "source": [
    "d=T.dissimilarity(b)\n",
    "plt.matshow(d.numpy())\n",
    "plt.show()"
   ]
  },
  {
   "cell_type": "code",
   "execution_count": null,
   "id": "1aa63c54",
   "metadata": {},
   "outputs": [],
   "source": [
    "from sklearn.manifold import TSNE,MDS\n",
    "X_embedded = MDS(n_components=2, dissimilarity='precomputed').fit_transform(((d+d.transpose(0,1))/2).numpy())\n",
    "plt.scatter(X_embedded[:,0],X_embedded[:,1])\n",
    "plt.show()"
   ]
  },
  {
   "cell_type": "code",
   "execution_count": null,
   "id": "028edba4",
   "metadata": {},
   "outputs": [],
   "source": [
    "from ConeSpace import ConeOverM\n",
    "COverT = ConeOverM(T,1)\n",
    "print(COverT)\n",
    "print(COverT._metric)\n",
    "c=COverT.random(1000,10)\n",
    "print(torch.all(COverT.belongs(c)))"
   ]
  },
  {
   "cell_type": "code",
   "execution_count": null,
   "id": "e2febeff",
   "metadata": {},
   "outputs": [],
   "source": [
    "d=COverT.dissimilarity(c)\n",
    "plt.matshow(d.numpy())\n",
    "plt.show()\n",
    "#print(d)"
   ]
  },
  {
   "cell_type": "code",
   "execution_count": null,
   "id": "5b260138",
   "metadata": {},
   "outputs": [],
   "source": [
    "\n",
    "X_embedded = MDS(n_components=2, dissimilarity='precomputed').fit_transform(d.numpy())\n",
    "plt.scatter(X_embedded[:,0],X_embedded[:,1])\n",
    "plt.scatter(X_embedded[:,0],X_embedded[:,1])\n",
    "plt.show()"
   ]
  },
  {
   "cell_type": "code",
   "execution_count": null,
   "id": "3d07f152",
   "metadata": {},
   "outputs": [],
   "source": [
    "from MeasureSpace import MeasureSpace\n",
    "MonT = MeasureSpace(T,4)\n",
    "print(MonT)\n",
    "print(MonT._metric)\n",
    "e = MonT.random(100,20,10)\n",
    "print(torch.all(MonT.belongs(e)))"
   ]
  },
  {
   "cell_type": "code",
   "execution_count": null,
   "id": "8b1e6e69",
   "metadata": {},
   "outputs": [],
   "source": [
    "d = MonT.dissimilarity(e,max_steps=10000,eps=.00001)\n",
    "plt.matshow(d.numpy())\n",
    "plt.show()\n",
    "#print(d)"
   ]
  },
  {
   "cell_type": "code",
   "execution_count": null,
   "id": "211b61d2",
   "metadata": {},
   "outputs": [],
   "source": [
    "X_embedded = MDS(n_components=2, dissimilarity='precomputed').fit_transform(d.numpy())\n",
    "plt.scatter(X_embedded[:,0],X_embedded[:,1])\n",
    "plt.scatter(X_embedded[:,0],X_embedded[:,1])\n",
    "plt.show()"
   ]
  },
  {
   "cell_type": "code",
   "execution_count": null,
   "id": "5e103ece",
   "metadata": {},
   "outputs": [],
   "source": []
  }
 ],
 "metadata": {
  "kernelspec": {
   "display_name": "Python 3",
   "language": "python",
   "name": "python3"
  },
  "language_info": {
   "codemirror_mode": {
    "name": "ipython",
    "version": 3
   },
   "file_extension": ".py",
   "mimetype": "text/x-python",
   "name": "python",
   "nbconvert_exporter": "python",
   "pygments_lexer": "ipython3",
   "version": "3.9.12"
  }
 },
 "nbformat": 4,
 "nbformat_minor": 5
}

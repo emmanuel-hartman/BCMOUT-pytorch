{
 "cells": [
  {
   "cell_type": "code",
   "execution_count": 1,
   "id": "410fd1bb",
   "metadata": {},
   "outputs": [
    {
     "name": "stdout",
     "output_type": "stream",
     "text": [
      "<Sphere.Sphere object at 0x7f8ea4571820>\n",
      "tensor([[-0.1937, -0.2060,  0.5903, -0.2454,  0.3083,  0.4567, -0.5160, -0.6605,\n",
      "         -0.4071,  0.1101,  0.3777,  0.4097,  0.3838,  0.4911, -0.0960, -0.0483,\n",
      "         -0.2656,  0.5709, -0.2368,  0.3902],\n",
      "        [-0.4781, -0.5822, -0.2920,  0.3364, -0.4758,  0.5592,  0.3810, -0.1263,\n",
      "          0.4704,  0.6283, -0.3792, -0.5240, -0.5318,  0.3685, -0.3328,  0.4832,\n",
      "         -0.2565,  0.0887, -0.4536, -0.4055],\n",
      "        [-0.5763, -0.2588, -0.4751,  0.4258, -0.4476,  0.2559, -0.5781, -0.1981,\n",
      "         -0.3970,  0.5934,  0.5711,  0.0451, -0.3386, -0.3466,  0.2973, -0.5786,\n",
      "          0.0151, -0.2659,  0.7638, -0.2545],\n",
      "        [-0.4499,  0.3090, -0.3620,  0.4171,  0.4414, -0.2928,  0.0575,  0.5125,\n",
      "          0.2673,  0.2290,  0.0643,  0.3155,  0.0916, -0.0569,  0.6061, -0.2167,\n",
      "         -0.2097,  0.2469, -0.0122,  0.6190],\n",
      "        [ 0.3967,  0.5694,  0.3034,  0.5964,  0.4276, -0.4854, -0.2974, -0.4922,\n",
      "          0.1178,  0.2355, -0.1806, -0.2102, -0.3423,  0.5106,  0.3887,  0.4655,\n",
      "          0.6412,  0.7070, -0.3933, -0.4801],\n",
      "        [ 0.2048,  0.3632, -0.3426,  0.3401, -0.3171, -0.3032, -0.4033, -0.0605,\n",
      "         -0.6083,  0.3649,  0.5921, -0.6417, -0.5742,  0.4888,  0.5227, -0.4072,\n",
      "          0.6390,  0.1864,  0.0021, -0.0696]])\n",
      "tensor([True, True, True, True, True, True, True, True, True, True, True, True,\n",
      "        True, True, True, True, True, True, True, True])\n"
     ]
    }
   ],
   "source": [
    "import matplotlib.pyplot as plt\n",
    "import torch\n",
    "from Sphere import Sphere\n",
    "S = Sphere(5)\n",
    "b = S.random(20)\n",
    "print(S)\n",
    "print(b)\n",
    "print(S.belongs(b))"
   ]
  },
  {
   "cell_type": "code",
   "execution_count": 2,
   "id": "afeb044d",
   "metadata": {},
   "outputs": [
    {
     "data": {
      "image/png": "[encoded data removed]",
      "text/plain": [
       "<Figure size 345.6x345.6 with 1 Axes>"
      ]
     },
     "metadata": {
      "needs_background": "light"
     },
     "output_type": "display_data"
    }
   ],
   "source": [
    "d=S.distance(b,b)\n",
    "plt.matshow(d.numpy())\n",
    "plt.show()\n",
    "#print(d)"
   ]
  },
  {
   "cell_type": "code",
   "execution_count": 3,
   "id": "028edba4",
   "metadata": {},
   "outputs": [
    {
     "name": "stdout",
     "output_type": "stream",
     "text": [
      "<ConeSpace.ConeOverM object at 0x7f8ea45794c0>\n",
      "tensor([[ 0.0281,  0.6527,  0.3845,  0.7257,  0.8270,  0.0495,  0.2704,  0.5450,\n",
      "          0.2360,  0.2096,  0.1752,  0.2914,  0.6818,  0.0384,  0.4281,  0.2698,\n",
      "          0.6877,  0.4057,  0.0074,  0.4965],\n",
      "        [ 0.5387,  0.5778, -0.6389, -0.4251,  0.5179,  0.2529, -0.5260, -0.4255,\n",
      "          0.0910,  0.4467, -0.3908,  0.6851, -0.4619, -0.5089,  0.0627, -0.2175,\n",
      "         -0.0121, -0.2510, -0.5772, -0.6115],\n",
      "        [ 0.0682, -0.1921, -0.3365,  0.6235,  0.4404,  0.5196,  0.2173,  0.2640,\n",
      "         -0.1897, -0.3626,  0.4582, -0.5443, -0.3401,  0.5448,  0.0702,  0.4128,\n",
      "         -0.6418, -0.4390,  0.3561,  0.1770],\n",
      "        [-0.5086,  0.4239,  0.2251, -0.0495, -0.4703, -0.3971, -0.1035, -0.5223,\n",
      "         -0.5359, -0.5553, -0.0170,  0.0401,  0.0339,  0.2293,  0.1093,  0.4411,\n",
      "          0.3908,  0.4430,  0.2387, -0.4834],\n",
      "        [-0.1452,  0.5275,  0.3614,  0.1414,  0.3273,  0.3464, -0.4972,  0.4845,\n",
      "          0.4721, -0.2574, -0.4725,  0.3460,  0.5211, -0.3814, -0.8726,  0.3647,\n",
      "          0.4681, -0.1358,  0.3377, -0.0634],\n",
      "        [ 0.3954,  0.2353, -0.3655,  0.5249,  0.3522, -0.2000, -0.4971,  0.0707,\n",
      "         -0.2766, -0.1031,  0.4848,  0.0011,  0.4414, -0.0150,  0.0084,  0.6101,\n",
      "          0.3471, -0.2508, -0.5440,  0.0656],\n",
      "        [-0.5188,  0.3405, -0.4045,  0.3640,  0.2924, -0.5902,  0.4137,  0.4866,\n",
      "         -0.6076, -0.5327,  0.4229,  0.3362,  0.4510,  0.4959, -0.4665,  0.2871,\n",
      "          0.3091,  0.6831, -0.2701,  0.5939]])\n",
      "tensor([[True, True, True, True, True, True, True, True, True, True, True, True,\n",
      "         True, True, True, True, True, True, True, True]])\n"
     ]
    }
   ],
   "source": [
    "from ConeSpace import ConeOverM\n",
    "COverS = ConeOverM(S,2)\n",
    "print(COverS)\n",
    "c=COverS.random(20,1)\n",
    "print(c)\n",
    "print(COverS.belongs(c))"
   ]
  },
  {
   "cell_type": "code",
   "execution_count": 4,
   "id": "e2febeff",
   "metadata": {},
   "outputs": [
    {
     "data": {
      "image/png": "[encoded data removed]",
      "text/plain": [
       "<Figure size 288x288 with 1 Axes>"
      ]
     },
     "metadata": {
      "needs_background": "light"
     },
     "output_type": "display_data"
    }
   ],
   "source": [
    "d=COverS.distance(c,c)\n",
    "plt.matshow(d.numpy())\n",
    "plt.show()\n",
    "#print(d)"
   ]
  },
  {
   "cell_type": "code",
   "execution_count": 5,
   "id": "3d07f152",
   "metadata": {},
   "outputs": [
    {
     "name": "stdout",
     "output_type": "stream",
     "text": [
      "<MeasuresSpace.MeasuresSpace object at 0x7f8e097a0cd0>\n",
      "tensor([True])\n"
     ]
    }
   ],
   "source": [
    "from MeasuresSpace import MeasuresSpace\n",
    "MonS = MeasuresSpace(S,.5)\n",
    "print(MonS)\n",
    "e = MonS.random(15,20,10)\n",
    "print(MonS.belongs(e))"
   ]
  },
  {
   "cell_type": "code",
   "execution_count": 6,
   "id": "8b1e6e69",
   "metadata": {},
   "outputs": [
    {
     "ename": "TypeError",
     "evalue": "can't assign a NoneType to a torch.FloatTensor",
     "output_type": "error",
     "traceback": [
      "\u001b[0;31m---------------------------------------------------------------------------\u001b[0m",
      "\u001b[0;31mTypeError\u001b[0m                                 Traceback (most recent call last)",
      "\u001b[0;32m<ipython-input-6-e501bb5a9513>\u001b[0m in \u001b[0;36m<module>\u001b[0;34m\u001b[0m\n\u001b[0;32m----> 1\u001b[0;31m \u001b[0mMonS\u001b[0m\u001b[0;34m.\u001b[0m\u001b[0mdistance\u001b[0m\u001b[0;34m(\u001b[0m\u001b[0me\u001b[0m\u001b[0;34m,\u001b[0m\u001b[0me\u001b[0m\u001b[0;34m)\u001b[0m\u001b[0;34m\u001b[0m\u001b[0;34m\u001b[0m\u001b[0m\n\u001b[0m",
      "\u001b[0;32m~/Research/TBD-main/MeasuresSpace.py\u001b[0m in \u001b[0;36mdistance\u001b[0;34m(self, point1, point2)\u001b[0m\n\u001b[1;32m     60\u001b[0m         \u001b[0;32mfor\u001b[0m \u001b[0mi\u001b[0m \u001b[0;32min\u001b[0m \u001b[0mrange\u001b[0m\u001b[0;34m(\u001b[0m\u001b[0;36m0\u001b[0m\u001b[0;34m,\u001b[0m \u001b[0mdistance\u001b[0m\u001b[0;34m.\u001b[0m\u001b[0mshape\u001b[0m\u001b[0;34m[\u001b[0m\u001b[0;36m0\u001b[0m\u001b[0;34m]\u001b[0m\u001b[0;34m)\u001b[0m\u001b[0;34m:\u001b[0m\u001b[0;34m\u001b[0m\u001b[0;34m\u001b[0m\u001b[0m\n\u001b[1;32m     61\u001b[0m             \u001b[0;32mfor\u001b[0m \u001b[0mj\u001b[0m \u001b[0;32min\u001b[0m \u001b[0mrange\u001b[0m\u001b[0;34m(\u001b[0m\u001b[0;36m0\u001b[0m\u001b[0;34m,\u001b[0m\u001b[0mdistance\u001b[0m\u001b[0;34m.\u001b[0m\u001b[0mshape\u001b[0m\u001b[0;34m[\u001b[0m\u001b[0;36m1\u001b[0m\u001b[0;34m]\u001b[0m\u001b[0;34m)\u001b[0m\u001b[0;34m:\u001b[0m\u001b[0;34m\u001b[0m\u001b[0;34m\u001b[0m\u001b[0m\n\u001b[0;32m---> 62\u001b[0;31m                 \u001b[0mdistance\u001b[0m\u001b[0;34m[\u001b[0m\u001b[0mi\u001b[0m\u001b[0;34m,\u001b[0m\u001b[0mj\u001b[0m\u001b[0;34m]\u001b[0m\u001b[0;34m=\u001b[0m\u001b[0mself\u001b[0m\u001b[0;34m.\u001b[0m\u001b[0m_pairwise_distance\u001b[0m\u001b[0;34m(\u001b[0m\u001b[0mpoint1\u001b[0m\u001b[0;34m[\u001b[0m\u001b[0mi\u001b[0m\u001b[0;34m]\u001b[0m\u001b[0;34m,\u001b[0m \u001b[0mpoint2\u001b[0m\u001b[0;34m[\u001b[0m\u001b[0mj\u001b[0m\u001b[0;34m]\u001b[0m\u001b[0;34m)\u001b[0m\u001b[0;34m\u001b[0m\u001b[0;34m\u001b[0m\u001b[0m\n\u001b[0m\u001b[1;32m     63\u001b[0m         \u001b[0;32mreturn\u001b[0m \u001b[0mdistance\u001b[0m\u001b[0;34m\u001b[0m\u001b[0;34m\u001b[0m\u001b[0m\n\u001b[1;32m     64\u001b[0m \u001b[0;34m\u001b[0m\u001b[0m\n",
      "\u001b[0;31mTypeError\u001b[0m: can't assign a NoneType to a torch.FloatTensor"
     ]
    }
   ],
   "source": [
    "#MonS.distance(e,e)"
   ]
  },
  {
   "cell_type": "code",
   "execution_count": null,
   "id": "211b61d2",
   "metadata": {},
   "outputs": [],
   "source": []
  }
 ],
 "metadata": {
  "kernelspec": {
   "display_name": "Python 3",
   "language": "python",
   "name": "python3"
  },
  "language_info": {
   "codemirror_mode": {
    "name": "ipython",
    "version": 3
   },
   "file_extension": ".py",
   "mimetype": "text/x-python",
   "name": "python",
   "nbconvert_exporter": "python",
   "pygments_lexer": "ipython3",
   "version": "3.8.8"
  }
 },
 "nbformat": 4,
 "nbformat_minor": 5
}

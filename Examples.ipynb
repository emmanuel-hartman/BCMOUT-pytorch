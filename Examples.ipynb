{
 "cells": [
  {
   "cell_type": "markdown",
   "id": "c3823457-86eb-4ac1-9c42-c4e2c3ed3ac3",
   "metadata": {
    "tags": []
   },
   "source": [
    "import os\n",
    "import matplotlib as plt\n",
    "import torch\n",
    "from Sphere import Sphere\n",
    "from Measure import Measure\n",
    "from ProductSpace import Product\n",
    "from SPDMatrices import SPDMatrices"
   ]
  }
 ],
 "metadata": {
  "kernelspec": {
   "display_name": "Python 3 (ipykernel)",
   "language": "python",
   "name": "python3"
  },
  "language_info": {
   "codemirror_mode": {
    "name": "ipython",
    "version": 3
   },
   "file_extension": ".py",
   "mimetype": "text/x-python",
   "name": "python",
   "nbconvert_exporter": "python",
   "pygments_lexer": "ipython3",
   "version": "3.8.10"
  }
 },
 "nbformat": 4,
 "nbformat_minor": 5
}

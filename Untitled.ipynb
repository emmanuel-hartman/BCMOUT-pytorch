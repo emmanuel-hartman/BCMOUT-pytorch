{
 "cells": [
  {
   "cell_type": "code",
   "execution_count": 1,
   "id": "410fd1bb",
   "metadata": {},
   "outputs": [
    {
     "name": "stdout",
     "output_type": "stream",
     "text": [
      "<Sphere.Sphere object at 0x7f01511b06a0>\n",
      "tensor([[-0.1996, -0.4978,  0.4137, -0.3299, -0.2518,  0.2893, -0.2665, -0.2312,\n",
      "         -0.2824, -0.7073,  0.5763, -0.4708,  0.1101,  0.2416, -0.1071,  0.5184,\n",
      "         -0.5337, -0.6677,  0.2199, -0.2083],\n",
      "        [-0.6004, -0.0856, -0.3480, -0.6363, -0.3296,  0.0847,  0.3273,  0.4897,\n",
      "         -0.1923,  0.5618, -0.3422, -0.5669,  0.3237, -0.1989, -0.3136,  0.4531,\n",
      "          0.1748,  0.2454,  0.0064, -0.5924],\n",
      "        [ 0.0043, -0.1025,  0.1322,  0.2075,  0.4859,  0.4378, -0.5211,  0.3684,\n",
      "          0.4652, -0.2243,  0.0898, -0.2854, -0.4276,  0.5252,  0.2215, -0.1471,\n",
      "         -0.5105,  0.0023,  0.6353, -0.5053],\n",
      "        [-0.7110, -0.4990, -0.5938, -0.3538, -0.3920, -0.4222, -0.5454, -0.6485,\n",
      "         -0.6889, -0.1406,  0.2693, -0.0092, -0.0279, -0.5401, -0.5614,  0.4793,\n",
      "         -0.5197,  0.4399,  0.0184,  0.2183],\n",
      "        [-0.3063,  0.4708, -0.1838, -0.2994,  0.4218, -0.5528,  0.1096,  0.3786,\n",
      "          0.2650,  0.0192,  0.3004, -0.2716,  0.5795,  0.5302,  0.1031,  0.5240,\n",
      "         -0.2389, -0.5159,  0.6230,  0.1728],\n",
      "        [-0.0169, -0.5135,  0.5512, -0.4780,  0.5102, -0.4834, -0.4907, -0.0843,\n",
      "         -0.3494,  0.3371,  0.6165, -0.5492, -0.6030, -0.2310,  0.7178, -0.0045,\n",
      "         -0.3111, -0.1849,  0.3995, -0.5223]])\n",
      "tensor([True, True, True, True, True, True, True, True, True, True, True, True,\n",
      "        True, True, True, True, True, True, True, True])\n"
     ]
    }
   ],
   "source": [
    "import matplotlib.pyplot as plt\n",
    "import torch\n",
    "from Sphere import Sphere\n",
    "S = Sphere(5)\n",
    "b = S.random(20)\n",
    "print(S)\n",
    "print(b)\n",
    "print(S.belongs(b))"
   ]
  },
  {
   "cell_type": "code",
   "execution_count": 2,
   "id": "afeb044d",
   "metadata": {},
   "outputs": [
    {
     "data": {
      "image/png": "[encoded data removed]",
      "text/plain": [
       "<Figure size 345.6x345.6 with 1 Axes>"
      ]
     },
     "metadata": {
      "needs_background": "light"
     },
     "output_type": "display_data"
    }
   ],
   "source": [
    "d=S.distance(b,b)\n",
    "plt.matshow(d.numpy())\n",
    "plt.show()\n",
    "#print(d)"
   ]
  },
  {
   "cell_type": "code",
   "execution_count": 3,
   "id": "028edba4",
   "metadata": {},
   "outputs": [
    {
     "name": "stdout",
     "output_type": "stream",
     "text": [
      "<ConeSpace.ConeOverM object at 0x7f00b6480850>\n",
      "tensor([[ 0.9657,  0.4044,  0.7847,  0.5743,  0.5291,  0.2934,  0.1576,  0.7215,\n",
      "          0.4437,  0.5377,  0.6301,  0.9846,  0.8968,  0.4216,  0.9817,  0.0207,\n",
      "          0.5593,  0.2088,  0.4256,  0.1038],\n",
      "        [-0.1671,  0.3495, -0.3219, -0.5283,  0.6598,  0.3783, -0.1541,  0.5565,\n",
      "          0.2375, -0.1111,  0.1316,  0.1722, -0.3455, -0.0531,  0.4985, -0.1680,\n",
      "          0.0813, -0.2483,  0.5439,  0.3815],\n",
      "        [-0.2660, -0.6132, -0.6018, -0.3919, -0.1624,  0.4514, -0.1457, -0.2807,\n",
      "          0.6394,  0.5864, -0.0539, -0.4955,  0.5631,  0.6950, -0.3206,  0.2239,\n",
      "          0.0529, -0.0365, -0.0023, -0.2613],\n",
      "        [ 0.7082, -0.1969,  0.2781, -0.3624, -0.3924, -0.3696,  0.5882,  0.3986,\n",
      "          0.1773, -0.3487, -0.0023,  0.1810, -0.4470, -0.0981, -0.1000,  0.0317,\n",
      "          0.3526, -0.4601,  0.7238,  0.4062],\n",
      "        [ 0.6114, -0.0065, -0.0393, -0.2117, -0.2279, -0.6113, -0.2273, -0.5387,\n",
      "         -0.2814,  0.2155,  0.4624,  0.2932,  0.3380, -0.0118,  0.1078,  0.6577,\n",
      "         -0.6511,  0.0320, -0.1923,  0.5949],\n",
      "        [ 0.1577, -0.3788, -0.5888, -0.5233, -0.5757,  0.2133,  0.3833,  0.3976,\n",
      "          0.4211, -0.6616, -0.1303,  0.2475, -0.4912,  0.5960, -0.5389, -0.1521,\n",
      "         -0.6294, -0.6377, -0.1751,  0.1568],\n",
      "        [ 0.0343, -0.5653, -0.3297, -0.3425,  0.0323,  0.3120, -0.6407,  0.0653,\n",
      "          0.4968,  0.1949, -0.8654, -0.7381, -0.0906, -0.3863, -0.5803,  0.6818,\n",
      "         -0.2149,  0.5636,  0.3357, -0.4926]])\n",
      "tensor([[True, True, True, True, True, True, True, True, True, True, True, True,\n",
      "         True, True, True, True, True, True, True, True]])\n"
     ]
    }
   ],
   "source": [
    "from ConeSpace import ConeOverM\n",
    "COverS = ConeOverM(S,.5)\n",
    "print(COverS)\n",
    "c=COverS.random(20,1)\n",
    "print(c)\n",
    "print(COverS.belongs(c))"
   ]
  },
  {
   "cell_type": "code",
   "execution_count": 4,
   "id": "e2febeff",
   "metadata": {},
   "outputs": [
    {
     "data": {
      "image/png": "[encoded data removed]",
      "text/plain": [
       "<Figure size 288x288 with 1 Axes>"
      ]
     },
     "metadata": {
      "needs_background": "light"
     },
     "output_type": "display_data"
    }
   ],
   "source": [
    "d=COverS.distance(c,c)\n",
    "plt.matshow(d.numpy())\n",
    "plt.show()\n",
    "#print(d)"
   ]
  },
  {
   "cell_type": "code",
   "execution_count": 5,
   "id": "3d07f152",
   "metadata": {},
   "outputs": [
    {
     "name": "stdout",
     "output_type": "stream",
     "text": [
      "<MeasuresSpace.MeasuresSpace object at 0x7f00b64338b0>\n"
     ]
    }
   ],
   "source": [
    "from MeasuresSpace import MeasuresSpace\n",
    "MonS = MeasuresSpace(S)\n",
    "print(MonS)\n",
    "b = MonS.random(20,10)"
   ]
  },
  {
   "cell_type": "code",
   "execution_count": null,
   "id": "8b1e6e69",
   "metadata": {},
   "outputs": [],
   "source": []
  }
 ],
 "metadata": {
  "kernelspec": {
   "display_name": "Python 3",
   "language": "python",
   "name": "python3"
  },
  "language_info": {
   "codemirror_mode": {
    "name": "ipython",
    "version": 3
   },
   "file_extension": ".py",
   "mimetype": "text/x-python",
   "name": "python",
   "nbconvert_exporter": "python",
   "pygments_lexer": "ipython3",
   "version": "3.8.8"
  }
 },
 "nbformat": 4,
 "nbformat_minor": 5
}
